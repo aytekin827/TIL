{
  "nbformat": 4,
  "nbformat_minor": 0,
  "metadata": {
    "colab": {
      "provenance": [],
      "authorship_tag": "ABX9TyM8LuX8lVQ0P3UBTWAw9Spi",
      "include_colab_link": true
    },
    "kernelspec": {
      "name": "python3",
      "display_name": "Python 3"
    },
    "language_info": {
      "name": "python"
    }
  },
  "cells": [
    {
      "cell_type": "markdown",
      "metadata": {
        "id": "view-in-github",
        "colab_type": "text"
      },
      "source": [
        "<a href=\"https://colab.research.google.com/github/aytekin827/TIL/blob/main/PyTorch%EB%A1%9C_%EC%8B%9C%EC%9E%91%ED%95%98%EB%8A%94_%EB%94%A5_%EB%9F%AC%EB%8B%9D_%EC%9E%85%EB%AC%B8.ipynb\" target=\"_parent\"><img src=\"https://colab.research.google.com/assets/colab-badge.svg\" alt=\"Open In Colab\"/></a>"
      ]
    },
    {
      "cell_type": "markdown",
      "source": [
        "# 03-05 클래스로 파이토치 모델 구현하기"
      ],
      "metadata": {
        "id": "9kn-anPzWvOz"
      }
    },
    {
      "cell_type": "code",
      "source": [
        "import torch\n",
        "import torch.nn as nn\n",
        "import torch.nn.functional as F\n",
        "torch.manual_seed(1)"
      ],
      "metadata": {
        "colab": {
          "base_uri": "https://localhost:8080/"
        },
        "id": "Z9DizyTKXPgM",
        "outputId": "89d80683-e45c-4fbf-cc33-0c6f78ab7caa"
      },
      "execution_count": 8,
      "outputs": [
        {
          "output_type": "execute_result",
          "data": {
            "text/plain": [
              "<torch._C.Generator at 0x78f38d143ad0>"
            ]
          },
          "metadata": {},
          "execution_count": 8
        }
      ]
    },
    {
      "cell_type": "markdown",
      "source": [
        "단순 선형회귀모델 구현"
      ],
      "metadata": {
        "id": "xmC9JZp4W5Xp"
      }
    },
    {
      "cell_type": "code",
      "source": [
        "class LinearRegressionModel(nn.Module): # torch.nn.Module을 상속받는 파이썬 클래스\n",
        "    def __init__(self): #\n",
        "        super().__init__()\n",
        "        self.linear = nn.Linear(1, 1) # 단순 선형 회귀이므로 input_dim=1, output_dim=1.\n",
        "\n",
        "    def forward(self, x):\n",
        "        return self.linear(x)\n",
        "\n",
        "simple_linear_model = LinearRegressionModel()"
      ],
      "metadata": {
        "id": "Xoemz5bEW25J"
      },
      "execution_count": 24,
      "outputs": []
    },
    {
      "cell_type": "code",
      "source": [
        "# 데이터\n",
        "x_train = torch.FloatTensor([[1], [2], [3]])\n",
        "y_train = torch.FloatTensor([[2], [4], [6]])"
      ],
      "metadata": {
        "id": "spYmDWeqXSA9"
      },
      "execution_count": 25,
      "outputs": []
    },
    {
      "cell_type": "code",
      "source": [
        "# optimizer 설정. 경사 하강법 SGD를 사용하고 learning rate를 의미하는 lr은 0.01\n",
        "optimizer = torch.optim.SGD(simple_linear_model.parameters(), lr=0.01)"
      ],
      "metadata": {
        "id": "fJb4q7eiXURs"
      },
      "execution_count": 26,
      "outputs": []
    },
    {
      "cell_type": "code",
      "source": [
        "# 전체 훈련 데이터에 대해 경사 하강법을 2,000회 반복\n",
        "nb_epochs = 2000\n",
        "for epoch in range(nb_epochs+1):\n",
        "\n",
        "    # H(x) 계산\n",
        "    prediction = simple_linear_model(x_train)\n",
        "\n",
        "    # cost 계산\n",
        "    cost = F.mse_loss(prediction, y_train) # <== 파이토치에서 제공하는 평균 제곱 오차 함수\n",
        "\n",
        "    # cost로 H(x) 개선하는 부분\n",
        "    # gradient를 0으로 초기화\n",
        "    optimizer.zero_grad()\n",
        "    # 비용 함수를 미분하여 gradient 계산\n",
        "    cost.backward() # backward 연산\n",
        "    # W와 b를 업데이트\n",
        "    optimizer.step()\n",
        "\n",
        "    if epoch % 100 == 0:\n",
        "    # 100번마다 로그 출력\n",
        "      print('Epoch {:4d}/{} Cost: {:.6f}'.format(\n",
        "          epoch, nb_epochs, cost.item()\n",
        "      ))"
      ],
      "metadata": {
        "colab": {
          "base_uri": "https://localhost:8080/"
        },
        "id": "H34_4fIcXXBH",
        "outputId": "479bd700-73e3-4524-aeda-18d19038182f"
      },
      "execution_count": 27,
      "outputs": [
        {
          "output_type": "stream",
          "name": "stdout",
          "text": [
            "Epoch    0/2000 Cost: 18.474602\n",
            "Epoch  100/2000 Cost: 0.136136\n",
            "Epoch  200/2000 Cost: 0.084124\n",
            "Epoch  300/2000 Cost: 0.051984\n",
            "Epoch  400/2000 Cost: 0.032123\n",
            "Epoch  500/2000 Cost: 0.019850\n",
            "Epoch  600/2000 Cost: 0.012266\n",
            "Epoch  700/2000 Cost: 0.007580\n",
            "Epoch  800/2000 Cost: 0.004684\n",
            "Epoch  900/2000 Cost: 0.002894\n",
            "Epoch 1000/2000 Cost: 0.001788\n",
            "Epoch 1100/2000 Cost: 0.001105\n",
            "Epoch 1200/2000 Cost: 0.000683\n",
            "Epoch 1300/2000 Cost: 0.000422\n",
            "Epoch 1400/2000 Cost: 0.000261\n",
            "Epoch 1500/2000 Cost: 0.000161\n",
            "Epoch 1600/2000 Cost: 0.000100\n",
            "Epoch 1700/2000 Cost: 0.000062\n",
            "Epoch 1800/2000 Cost: 0.000038\n",
            "Epoch 1900/2000 Cost: 0.000023\n",
            "Epoch 2000/2000 Cost: 0.000015\n"
          ]
        }
      ]
    },
    {
      "cell_type": "code",
      "source": [
        "test_tensor = torch.FloatTensor([[10]])\n",
        "simple_linear_model(test_tensor)"
      ],
      "metadata": {
        "colab": {
          "base_uri": "https://localhost:8080/"
        },
        "id": "aWKVW0lHYD7U",
        "outputId": "40644432-992c-43de-9a88-8ad1a67dc87d"
      },
      "execution_count": 28,
      "outputs": [
        {
          "output_type": "execute_result",
          "data": {
            "text/plain": [
              "tensor([[19.9659]], grad_fn=<AddmmBackward0>)"
            ]
          },
          "metadata": {},
          "execution_count": 28
        }
      ]
    },
    {
      "cell_type": "code",
      "source": [
        "for param in simple_linear_model.parameters():\n",
        "    print(param)"
      ],
      "metadata": {
        "colab": {
          "base_uri": "https://localhost:8080/"
        },
        "id": "nOsX-JtwYYQF",
        "outputId": "87fdc2d9-75f3-4047-f292-c9827fef0a50"
      },
      "execution_count": 40,
      "outputs": [
        {
          "output_type": "stream",
          "name": "stdout",
          "text": [
            "Parameter containing:\n",
            "tensor([[1.9956]], requires_grad=True)\n",
            "Parameter containing:\n",
            "tensor([0.0100], requires_grad=True)\n"
          ]
        }
      ]
    },
    {
      "cell_type": "markdown",
      "source": [
        "다중 선형 회귀 모델"
      ],
      "metadata": {
        "id": "2ZhSnr0gXES5"
      }
    },
    {
      "cell_type": "code",
      "source": [
        "class MultivariateLinearRegressionModel(nn.Module):\n",
        "    def __init__(self):\n",
        "        super().__init__()\n",
        "        self.linear = nn.Linear(3, 1) # 다중 선형 회귀이므로 input_dim=3, output_dim=1.\n",
        "\n",
        "    def forward(self, x):\n",
        "        return self.linear(x)\n",
        "\n",
        "multi_linear_model = MultivariateLinearRegressionModel()"
      ],
      "metadata": {
        "id": "I2cCN0IZXAmz"
      },
      "execution_count": 29,
      "outputs": []
    },
    {
      "cell_type": "code",
      "source": [
        "# 데이터\n",
        "x_train = torch.FloatTensor([[73, 80, 75],\n",
        "                             [93, 88, 93],\n",
        "                             [89, 91, 90],\n",
        "                             [96, 98, 100],\n",
        "                             [73, 66, 70]])\n",
        "y_train = torch.FloatTensor([[152], [185], [180], [196], [142]])"
      ],
      "metadata": {
        "id": "mRBBiPazXm9O"
      },
      "execution_count": 30,
      "outputs": []
    },
    {
      "cell_type": "code",
      "source": [
        "optimizer = torch.optim.SGD(multi_linear_model.parameters(), lr=1e-5)"
      ],
      "metadata": {
        "id": "krpDm64FXo4d"
      },
      "execution_count": 31,
      "outputs": []
    },
    {
      "cell_type": "code",
      "source": [
        "nb_epochs = 2000\n",
        "for epoch in range(nb_epochs+1):\n",
        "\n",
        "    # H(x) 계산\n",
        "    prediction = multi_linear_model(x_train)\n",
        "    # model(x_train)은 model.forward(x_train)와 동일함.\n",
        "\n",
        "    # cost 계산\n",
        "    cost = F.mse_loss(prediction, y_train) # <== 파이토치에서 제공하는 평균 제곱 오차 함수\n",
        "\n",
        "    # cost로 H(x) 개선하는 부분\n",
        "    # gradient를 0으로 초기화\n",
        "    optimizer.zero_grad()\n",
        "    # 비용 함수를 미분하여 gradient 계산\n",
        "    cost.backward()\n",
        "    # W와 b를 업데이트\n",
        "    optimizer.step()\n",
        "\n",
        "    if epoch % 100 == 0:\n",
        "    # 100번마다 로그 출력\n",
        "      print('Epoch {:4d}/{} Cost: {:.6f}'.format(\n",
        "          epoch, nb_epochs, cost.item()\n",
        "      ))"
      ],
      "metadata": {
        "colab": {
          "base_uri": "https://localhost:8080/"
        },
        "id": "KrVshoeSXq2T",
        "outputId": "a786c993-6d35-4bf1-fe0b-89bb6df2eae3"
      },
      "execution_count": 32,
      "outputs": [
        {
          "output_type": "stream",
          "name": "stdout",
          "text": [
            "Epoch    0/2000 Cost: 24821.373047\n",
            "Epoch  100/2000 Cost: 0.849148\n",
            "Epoch  200/2000 Cost: 0.825597\n",
            "Epoch  300/2000 Cost: 0.803225\n",
            "Epoch  400/2000 Cost: 0.781968\n",
            "Epoch  500/2000 Cost: 0.761775\n",
            "Epoch  600/2000 Cost: 0.742599\n",
            "Epoch  700/2000 Cost: 0.724357\n",
            "Epoch  800/2000 Cost: 0.707025\n",
            "Epoch  900/2000 Cost: 0.690548\n",
            "Epoch 1000/2000 Cost: 0.674883\n",
            "Epoch 1100/2000 Cost: 0.659985\n",
            "Epoch 1200/2000 Cost: 0.645810\n",
            "Epoch 1300/2000 Cost: 0.632342\n",
            "Epoch 1400/2000 Cost: 0.619514\n",
            "Epoch 1500/2000 Cost: 0.607307\n",
            "Epoch 1600/2000 Cost: 0.595680\n",
            "Epoch 1700/2000 Cost: 0.584620\n",
            "Epoch 1800/2000 Cost: 0.574083\n",
            "Epoch 1900/2000 Cost: 0.564048\n",
            "Epoch 2000/2000 Cost: 0.554477\n"
          ]
        }
      ]
    },
    {
      "cell_type": "code",
      "source": [
        "test_tensor = torch.FloatTensor([[73, 80, 75]])\n",
        "multi_linear_model(test_tensor)"
      ],
      "metadata": {
        "colab": {
          "base_uri": "https://localhost:8080/"
        },
        "id": "0FRXYDp7XvVV",
        "outputId": "c6d8b5f6-8583-448d-dd87-e0fff4632340"
      },
      "execution_count": 33,
      "outputs": [
        {
          "output_type": "execute_result",
          "data": {
            "text/plain": [
              "tensor([[151.6526]], grad_fn=<AddmmBackward0>)"
            ]
          },
          "metadata": {},
          "execution_count": 33
        }
      ]
    },
    {
      "cell_type": "code",
      "source": [
        "for param in multi_linear_model.parameters():\n",
        "    print(param)"
      ],
      "metadata": {
        "colab": {
          "base_uri": "https://localhost:8080/"
        },
        "id": "-3biWCEzYwlO",
        "outputId": "031ebb00-ff82-4fc5-da65-0a58fb95e542"
      },
      "execution_count": 41,
      "outputs": [
        {
          "output_type": "stream",
          "name": "stdout",
          "text": [
            "Parameter containing:\n",
            "tensor([[0.7497, 0.4868, 0.7725]], requires_grad=True)\n",
            "Parameter containing:\n",
            "tensor([0.0386], requires_grad=True)\n"
          ]
        }
      ]
    },
    {
      "cell_type": "markdown",
      "source": [
        "# 03-06 미니 배치와 데이터 로드(Mini Batch and Data Load)\n",
        "\n",
        "https://wikidocs.net/55580"
      ],
      "metadata": {
        "id": "6Kg2RjDMVazS"
      }
    },
    {
      "cell_type": "markdown",
      "source": [
        "데이터셋, 데이터로더 사용법\n",
        "\n",
        "**Dataset정의** => **DataLoader에 전달**"
      ],
      "metadata": {
        "id": "LNdAyylcV3-A"
      }
    },
    {
      "cell_type": "code",
      "execution_count": 1,
      "metadata": {
        "id": "FOVP6pi9VZio"
      },
      "outputs": [],
      "source": [
        "import torch\n",
        "import torch.nn as nn\n",
        "import torch.nn.functional as F"
      ]
    },
    {
      "cell_type": "code",
      "source": [
        "from torch.utils.data import TensorDataset # 텐서 데이터셋\n",
        "from torch.utils.data import DataLoader # 데이터 로더"
      ],
      "metadata": {
        "id": "bQsrfVOAWFHQ"
      },
      "execution_count": 2,
      "outputs": []
    },
    {
      "cell_type": "code",
      "source": [
        "x_train  =  torch.FloatTensor([[73,  80,  75],\n",
        "                               [93,  88,  93],\n",
        "                               [89,  91,  90],\n",
        "                               [96,  98,  100],\n",
        "                               [73,  66,  70]])\n",
        "y_train  =  torch.FloatTensor([[152],  [185],  [180],  [196],  [142]])"
      ],
      "metadata": {
        "id": "KRuO4cMoWH7p"
      },
      "execution_count": 3,
      "outputs": []
    },
    {
      "cell_type": "code",
      "source": [
        "dataset = TensorDataset(x_train, y_train)"
      ],
      "metadata": {
        "colab": {
          "base_uri": "https://localhost:8080/"
        },
        "id": "AGHBdrtqWMDh",
        "outputId": "b356e99a-04cb-43b8-ff58-2abd756d7984"
      },
      "execution_count": 4,
      "outputs": [
        {
          "output_type": "execute_result",
          "data": {
            "text/plain": [
              "<torch.utils.data.dataset.TensorDataset at 0x78f38e657370>"
            ]
          },
          "metadata": {},
          "execution_count": 4
        }
      ]
    },
    {
      "cell_type": "code",
      "source": [
        "# 데이터로더는 Dataset과 batch_size를 인자로 받\n",
        "dataloader = DataLoader(dataset, batch_size=2, shuffle=True)"
      ],
      "metadata": {
        "id": "9PfTlyQEWVYo"
      },
      "execution_count": 5,
      "outputs": []
    },
    {
      "cell_type": "code",
      "source": [
        "nb_epochs = 20\n",
        "for epoch in range(nb_epochs + 1):\n",
        "  for batch_idx, samples in enumerate(dataloader):\n",
        "    # print(batch_idx)\n",
        "    # print(samples)\n",
        "    x_train, y_train = samples\n",
        "    # H(x) 계산\n",
        "    prediction = model(x_train)\n",
        "\n",
        "    # cost 계산\n",
        "    cost = F.mse_loss(prediction, y_train)\n",
        "\n",
        "    # cost로 H(x) 계산\n",
        "    optimizer.zero_grad()\n",
        "    cost.backward()\n",
        "    optimizer.step()\n",
        "\n",
        "    print('Epoch {:4d}/{} Batch {}/{} Cost: {:.6f}'.format(\n",
        "        epoch, nb_epochs, batch_idx+1, len(dataloader),\n",
        "        cost.item()\n",
        "        ))\n"
      ],
      "metadata": {
        "id": "Ng_3QmD_WcJE"
      },
      "execution_count": null,
      "outputs": []
    }
  ]
}