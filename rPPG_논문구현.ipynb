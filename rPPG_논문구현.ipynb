{
  "nbformat": 4,
  "nbformat_minor": 0,
  "metadata": {
    "colab": {
      "provenance": [],
      "collapsed_sections": [
        "bWbsxLcdMJd1",
        "bqjapwfLMKUX"
      ],
      "mount_file_id": "1IvnF6PUdncUZmNplO0tfbIykppxEGFw6",
      "authorship_tag": "ABX9TyPhwxUMlcN5N4Iwg7cVyJEw",
      "include_colab_link": true
    },
    "kernelspec": {
      "name": "python3",
      "display_name": "Python 3"
    },
    "language_info": {
      "name": "python"
    }
  },
  "cells": [
    {
      "cell_type": "markdown",
      "metadata": {
        "id": "view-in-github",
        "colab_type": "text"
      },
      "source": [
        "<a href=\"https://colab.research.google.com/github/aytekin827/TIL/blob/main/rPPG_%EB%85%BC%EB%AC%B8%EA%B5%AC%ED%98%84.ipynb\" target=\"_parent\"><img src=\"https://colab.research.google.com/assets/colab-badge.svg\" alt=\"Open In Colab\"/></a>"
      ]
    },
    {
      "cell_type": "markdown",
      "source": [
        "---\n",
        "#**rPPG 논문 테스트용**\n",
        "---"
      ],
      "metadata": {
        "id": "y8Kfeh8aLv9s"
      }
    },
    {
      "cell_type": "markdown",
      "source": [
        "https://github.com/dnwjddl/remotePPG 참고함\n"
      ],
      "metadata": {
        "id": "EtCJFyFWL-8d"
      }
    },
    {
      "cell_type": "markdown",
      "source": [
        "## demo1"
      ],
      "metadata": {
        "id": "AQez5hTKMCz0"
      }
    },
    {
      "cell_type": "markdown",
      "source": [
        "### lib"
      ],
      "metadata": {
        "id": "bWbsxLcdMJd1"
      }
    },
    {
      "cell_type": "code",
      "execution_count": 2,
      "metadata": {
        "id": "Y1IDT12sLvZS"
      },
      "outputs": [],
      "source": [
        "import cv2\n",
        "import numpy as np\n",
        "import matplotlib.pyplot as plt\n",
        "from scipy import signal\n",
        "from scipy.signal import butter, filtfilt\n",
        "from google.colab.patches import cv2_imshow"
      ]
    },
    {
      "cell_type": "markdown",
      "source": [
        "### utils"
      ],
      "metadata": {
        "id": "bqjapwfLMKUX"
      }
    },
    {
      "cell_type": "code",
      "source": [
        "def calculate_value(img):\n",
        "    b, g, r = cv2.split(img)\n",
        "    value = np.mean(g)\n",
        "\n",
        "    return value"
      ],
      "metadata": {
        "id": "-Xg9d2ewMPxo"
      },
      "execution_count": 3,
      "outputs": []
    },
    {
      "cell_type": "code",
      "source": [
        "def maxvalue(arr1, arr2):\n",
        "    value = np.argmax(arr1)\n",
        "    value = arr2[value]\n",
        "    return value"
      ],
      "metadata": {
        "id": "1sx9uGzQMQ6g"
      },
      "execution_count": 4,
      "outputs": []
    },
    {
      "cell_type": "code",
      "source": [
        "def filter_butterworth_bandpass(arr, srate, length, band, order=5):\n",
        "    try:\n",
        "        (minFreq, maxFreq) = band\n",
        "        nyq = srate / 2.0\n",
        "        n = len(arr)\n",
        "        pad_factor = max(1, 60 * srate / length)\n",
        "        n_padded = int(n * pad_factor)\n",
        "        padded = np.zeros(n_padded)\n",
        "        padded[:n] = arr[:]\n",
        "\n",
        "        # filter butterworths\n",
        "        filter = butter(order, [minFreq / nyq, maxFreq / nyq], 'bandpass')\n",
        "        bandpassed = filtfilt(*filter, padded)\n",
        "        bandpassed = bandpassed[:n]\n",
        "        return bandpassed\n",
        "\n",
        "    except ValueError:\n",
        "        return []"
      ],
      "metadata": {
        "id": "3TgvHWQ4MSD4"
      },
      "execution_count": 5,
      "outputs": []
    },
    {
      "cell_type": "code",
      "source": [
        "def detrend_signal(arr, win_size): #trend(큼직한 변화) 제거하는 함수\n",
        "    if not isinstance(win_size, int):\n",
        "        win_size = int(win_size)\n",
        "    length = len(arr)\n",
        "    norm = np.convolve(np.ones(length), np.ones(win_size), mode='same')\n",
        "    mean = np.convolve(arr, np.ones(win_size), mode='same') / norm\n",
        "    return (arr - mean) / mean"
      ],
      "metadata": {
        "id": "i1hpvPVEMID-"
      },
      "execution_count": 6,
      "outputs": []
    },
    {
      "cell_type": "markdown",
      "source": [
        "### run rPPG"
      ],
      "metadata": {
        "id": "vAdxLs_dMLpq"
      }
    },
    {
      "cell_type": "code",
      "source": [
        "face_cascade = cv2.CascadeClassifier(cv2.data.haarcascades + 'haarcascade_frontalface_default.xml')\n",
        "cv2_imshow(gray)\n",
        "\n",
        "x, y, w, h = face_cascade.detectMultiScale(gray,1.2, 5)[0]\n",
        "face = frame[y:y+h,x:x+w]\n",
        "\n",
        "cv2_imshow(face)\n",
        "value = calculate_value(face)\n",
        "signals.append(value)\n",
        "\n",
        "# cv2.rectangle(frame, (x+int(0.2*w),y+int(0.2*h)), (x+int(0.8*w), (y+int(0.8*h))), (0,0,255), 2)\n",
        "cv2.rectangle(frame, (x,y),(x+w,y+h),(0,0,255),2)\n",
        "\n",
        "cv2_imshow(frame)"
      ],
      "metadata": {
        "id": "stlCj4NANNDU"
      },
      "execution_count": null,
      "outputs": []
    },
    {
      "cell_type": "code",
      "source": [
        "#cap = cv2.VideoCapture(0)\n",
        "cap = cv2.VideoCapture('/content/drive/MyDrive/rPPG/쇼룸데이터/트레드밀_정민재_2023-07-26.mp4')\n",
        "face_cascade = cv2.CascadeClassifier(cv2.data.haarcascades + 'haarcascade_frontalface_default.xml')\n",
        "\n",
        "signals = []\n",
        "\n",
        "i = 0\n",
        "is_detected = False\n",
        "x, y, w, h = 0, 0, 0, 0\n",
        "while True:\n",
        "    ok, frame = cap.read()\n",
        "    if not ok:\n",
        "        break\n",
        "\n",
        "    gray = cv2.cvtColor(frame, cv2.COLOR_BGR2GRAY)\n",
        "    # cv2_imshow(gray)\n",
        "    # if not is_detected:\n",
        "    faces = face_cascade.detectMultiScale(gray, 1.3, 5)\n",
        "        # if len(faces) > 0:\n",
        "        #     max = 0\n",
        "        #     #find bigger face\n",
        "        #     for i in range(1,(len(faces))):\n",
        "        #         if i == 1:\n",
        "        #             if faces[i-1][2] > faces[i][2]:\n",
        "        #                 max = i-1\n",
        "        #             else:\n",
        "        #                 max = i\n",
        "        #         else:\n",
        "        #             if faces[i][2] > faces[max][2]:\n",
        "        #                 max = i\n",
        "        #         i+=1\n",
        "    x, y, w, h = faces[0]\n",
        "            # is_detected = True\n",
        "\n",
        "    if w != 0:\n",
        "        #face = frame[y+int(0.2*h):(y+int(0.8*h)), x+int(0.2*w):x+int(0.8*w)]\n",
        "        face = frame[y:y+h,x:x+w]\n",
        "\n",
        "        # cv2.imshow('face', face)\n",
        "        value = calculate_value(face)\n",
        "        signals.append(value)\n",
        "\n",
        "        # cv2.rectangle(frame, (x+int(0.2*w),y+int(0.2*h)), (x+int(0.8*w), (y+int(0.8*h))), (0,0,255), 2)\n",
        "        cv2.rectangle(frame, (x,y),(x+w,y+h),(0,0,255),2)\n",
        "\n",
        "    # cv2_imshow(frame)\n",
        "    key = cv2.waitKey(1)\n",
        "    if key == ord('x'):\n",
        "        break\n",
        "\n",
        "    i += 1\n",
        "\n",
        "det = detrend_signal(signals, 30)\n",
        "filtered=filter_butterworth_bandpass(det, 30, 900, (0.7, 3.0))\n",
        "f, P = signal.periodogram(filtered,fs=30.0)\n",
        "\n",
        "\n",
        "\n",
        "#f, P = signal.periodogram(filtered, 44100, nfft=2 ** 12)\n",
        "\n",
        "#2행 1열 frame, 추세\n",
        "#signal, detrend, filtered length 은 300, signal은 list 형식, detrend 는 numpy 형식, filtered numpy 형식\n",
        "print(\"당신의 심박수는: {}bpm 입니다\".format(maxvalue(P, f) * 60, \"10.2f\"))\n",
        "\n",
        "plt.subplot(221)\n",
        "plt.plot(signals)\n",
        "plt.subplot(222)\n",
        "plt.plot(det)\n",
        "plt.subplot(223)\n",
        "plt.plot(filtered) #세번쨰 파라미터 bandpass filter 영역\n",
        "plt.subplot(224)\n",
        "plt.xlim(0.0, 7,0) #hz 줄여서\n",
        "plt.plot(f,P)\n",
        "plt.show()\n",
        "\n",
        "# cap.release()\n",
        "# cv2.destroyAllWindows()"
      ],
      "metadata": {
        "id": "y5a4_N6xMOJ4"
      },
      "execution_count": null,
      "outputs": []
    }
  ]
}