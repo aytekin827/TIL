{
  "nbformat": 4,
  "nbformat_minor": 0,
  "metadata": {
    "colab": {
      "name": "최단경로.ipynb",
      "provenance": [],
      "authorship_tag": "ABX9TyOGWhuDAqEC92La9vZMygcf",
      "include_colab_link": true
    },
    "kernelspec": {
      "name": "python3",
      "display_name": "Python 3"
    },
    "language_info": {
      "name": "python"
    }
  },
  "cells": [
    {
      "cell_type": "markdown",
      "metadata": {
        "id": "view-in-github",
        "colab_type": "text"
      },
      "source": [
        "<a href=\"https://colab.research.google.com/github/aytekin827/TIL/blob/main/search%20algorithm/%EC%B5%9C%EB%8B%A8%EA%B2%BD%EB%A1%9C.ipynb\" target=\"_parent\"><img src=\"https://colab.research.google.com/assets/colab-badge.svg\" alt=\"Open In Colab\"/></a>"
      ]
    },
    {
      "cell_type": "markdown",
      "metadata": {
        "id": "gZkd6RcQI3TB"
      },
      "source": [
        "# 최단경로\n",
        "\n",
        "* **다익스트라 알고리즘**   \n",
        "[원리]\n",
        " 1. 출발노드를 설정한다.\n",
        " 2. 최단 거리 테이블을 초기화한다.\n",
        " 3. 방문하지 않은 노드 중에서 최단 거리가 가장 짧은 노드를 선택한다.\n",
        " 4. 해당 노드를 거쳐 다른 노드로 가는 비용을 계산하여 최단 거리 테이블을 갱신한다. => **그리디 개념**\n",
        " 5. 위 과정에서 3번과 4번을 반복한다.     \n",
        "\n",
        " [조건]  \n",
        " 음의 간선이 없을때\n",
        "\n",
        " [활용]  \n",
        " GPS소프트웨어 기본 알고리즘\n",
        "\n",
        "* 플로이드 워셜 알고리즘\n"
      ]
    },
    {
      "cell_type": "code",
      "metadata": {
        "id": "NLGchYURL8zi"
      },
      "source": [
        ""
      ],
      "execution_count": null,
      "outputs": []
    },
    {
      "cell_type": "code",
      "metadata": {
        "id": "NWC57ZjrJxbm"
      },
      "source": [
        ""
      ],
      "execution_count": null,
      "outputs": []
    },
    {
      "cell_type": "code",
      "metadata": {
        "id": "TfG3B73DI0VU"
      },
      "source": [
        ""
      ],
      "execution_count": null,
      "outputs": []
    }
  ]
}