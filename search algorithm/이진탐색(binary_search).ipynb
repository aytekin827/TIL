{
  "nbformat": 4,
  "nbformat_minor": 0,
  "metadata": {
    "colab": {
      "name": "이진탐색(binary_search).ipynb",
      "provenance": [],
      "toc_visible": true,
      "authorship_tag": "ABX9TyMAbceU1msFVLsrcv4hdB6c",
      "include_colab_link": true
    },
    "kernelspec": {
      "name": "python3",
      "display_name": "Python 3"
    },
    "language_info": {
      "name": "python"
    }
  },
  "cells": [
    {
      "cell_type": "markdown",
      "metadata": {
        "id": "view-in-github",
        "colab_type": "text"
      },
      "source": [
        "<a href=\"https://colab.research.google.com/github/aytekin827/TIL/blob/main/search%20algorithm/%EC%9D%B4%EC%A7%84%ED%83%90%EC%83%89(binary_search).ipynb\" target=\"_parent\"><img src=\"https://colab.research.google.com/assets/colab-badge.svg\" alt=\"Open In Colab\"/></a>"
      ]
    },
    {
      "cell_type": "markdown",
      "metadata": {
        "id": "lSefCNAtxK6D"
      },
      "source": [
        "# 이진탐색(Binary Search)\n",
        "\n",
        "리스트안의 중간점을 구해서 타겟값과 비교하며 확인하는 과정을 절반씩 줄여나가는 아이디어  \n",
        "=> 시간복잡도 **O(logN)**    \n",
        "데이터가 **정렬**이 되어있는 상태에서만 사용이 가능하다  \n",
        "\n"
      ]
    },
    {
      "cell_type": "code",
      "metadata": {
        "colab": {
          "base_uri": "https://localhost:8080/"
        },
        "id": "jXVtnB5bwVSi",
        "outputId": "6fb34bf9-87fd-4b20-8b4c-0614f6f63f3d"
      },
      "source": [
        "# 이진탐색 소스코드 구현(재귀 함수)\n",
        "def binary_search(array,target,start, end):\n",
        "    if start >= end: # edge case\n",
        "        print('타겟값이 존재하지 않습니다')\n",
        "        return None\n",
        "    mid = (start + end) // 2\n",
        "\n",
        "    # 찾은 경우 중간점 인덱스 반환\n",
        "    if array[mid] == target: # base case\n",
        "        return mid\n",
        "\n",
        "    # 중간점의 값보다 찾고자 하는 값이 작은 경우 왼쪽 확인\n",
        "    elif array[mid] > target:\n",
        "        return binary_search(array,target,start,mid-1)\n",
        "    \n",
        "    # 중간점의 값보다 찾고자 하는 값이 큰 경우 오른쪽 확인\n",
        "    else:\n",
        "        return binary_search(array,target,mid+1,end)\n",
        "\n",
        "import random\n",
        "test = [num for num in range(10,20)]\n",
        "random.shuffle(test)\n",
        "\n",
        "test = sorted(test)\n",
        "print(test)\n",
        "target = 29\n",
        "print(f'target :{target}')\n",
        "binary_search(test,target,0,len(test))"
      ],
      "execution_count": null,
      "outputs": [
        {
          "output_type": "stream",
          "name": "stdout",
          "text": [
            "[10, 11, 12, 13, 14, 15, 16, 17, 18, 19]\n",
            "target :29\n",
            "타겟값이 존재하지 않습니다\n"
          ]
        }
      ]
    },
    {
      "cell_type": "code",
      "metadata": {
        "id": "1P5EVeRw3wRF",
        "colab": {
          "base_uri": "https://localhost:8080/"
        },
        "outputId": "8ca8e997-0cae-4519-86ec-a70e9f858454"
      },
      "source": [
        "# 이진 탐색 소스코드 구현(반복문)\n",
        "def binary_search(array,target,start,end):\n",
        "    while start < end:\n",
        "        mid = (start + end) // 2\n",
        "\n",
        "        # 찾은 경우 중간점 인덱스 반환\n",
        "        if array[mid] == target:\n",
        "            return mid\n",
        "        elif array[mid] > target:\n",
        "            end = mid - 1\n",
        "        else:\n",
        "            start = mid + 1\n",
        "    print('찾으려는 타겟값이 없습니다')\n",
        "    return None\n",
        "\n",
        "import random\n",
        "test = [num for num in range(10,20)]\n",
        "random.shuffle(test)\n",
        "\n",
        "test = sorted(test)\n",
        "print(test)\n",
        "target = 21\n",
        "print(f'target :{target}')\n",
        "binary_search(test,target,0,len(test))"
      ],
      "execution_count": null,
      "outputs": [
        {
          "output_type": "stream",
          "name": "stdout",
          "text": [
            "[10, 11, 12, 13, 14, 15, 16, 17, 18, 19]\n",
            "target :21\n",
            "찾으려는 타겟값이 없습니다\n"
          ]
        }
      ]
    },
    {
      "cell_type": "markdown",
      "metadata": {
        "id": "COuGHlh9mBUQ"
      },
      "source": [
        "# 이코테 문제\n"
      ]
    },
    {
      "cell_type": "code",
      "metadata": {
        "id": "VIaZ3XUYmDtg",
        "outputId": "dad53fdd-7e13-444b-fa5e-0160944edfb3",
        "colab": {
          "base_uri": "https://localhost:8080/"
        }
      },
      "source": [
        "# 부품 찾기\n",
        "# n = int(input()) # 가게 부품 종류 \n",
        "# pro_num = list(map(int,input().split())) # 부품별 일련번호\n",
        "\n",
        "# m = int(input()) # 손님이 찾는 부품 종류 수\n",
        "# customer = list(map(int,input().split())) # 손님이 찾는 부품 일련번호\n",
        "\n",
        "pro_num = [8,3,7,9,2]\n",
        "customer = [5,7,9]\n",
        "pro_num = sorted(pro_num)\n",
        "customer = sorted(customer)\n",
        "\n",
        "def binary_search(array,target,start,end):\n",
        "    mid = (start + end) // 2\n",
        "    if start >= end:\n",
        "        print('no',end=' ')\n",
        "        return None\n",
        "\n",
        "    if array[mid] == target:\n",
        "        print('yes',end=' ')\n",
        "        return mid\n",
        "    elif array[mid] > target:\n",
        "        return binary_search(array,target,start,mid-1)\n",
        "    else:\n",
        "        return binary_search(array,target,mid+1,end)\n",
        "\n",
        "for i in customer:\n",
        "    binary_search(pro_num,i,0,len(pro_num))"
      ],
      "execution_count": 35,
      "outputs": [
        {
          "output_type": "stream",
          "name": "stdout",
          "text": [
            "no yes yes "
          ]
        }
      ]
    },
    {
      "cell_type": "code",
      "metadata": {
        "id": "TKldEr5zaDmL"
      },
      "source": [
        "# 이진 탐색 소스코드 구현(반복문)\n",
        "def binary_search(array,target,start,end):\n",
        "    while start <= end:\n",
        "        mid = (start + end)//2\n",
        "        if array[mid] == target:\n",
        "            return mid\n",
        "        elif array[mid] > target:\n",
        "            end = mid - 1\n",
        "        else:\n",
        "            start = end + 1\n",
        "    return None"
      ],
      "execution_count": null,
      "outputs": []
    },
    {
      "cell_type": "code",
      "metadata": {
        "id": "x8j8G8wiaj1E",
        "outputId": "504d3818-9988-4427-b8c1-c4ff0cccccc9",
        "colab": {
          "base_uri": "https://localhost:8080/"
        }
      },
      "source": [
        "# 계수정렬로 풀기\n",
        "\n",
        "n = int(input())\n",
        "array = [0] * 1000001\n",
        "\n",
        "for i in input().split():\n",
        "    array[int(i)] = 1\n",
        "\n",
        "m = int(input())\n",
        "x = list(map(int,input().split()))\n",
        "\n",
        "for i in x:\n",
        "    if array[i] == 1:\n",
        "        print('yes',end=' ')\n",
        "    else:\n",
        "        print('no',end=' ')"
      ],
      "execution_count": 36,
      "outputs": [
        {
          "output_type": "stream",
          "name": "stdout",
          "text": [
            "5\n",
            "8 3 7 9 2\n",
            "3 \n",
            "5 7 9\n",
            "no yes yes "
          ]
        }
      ]
    },
    {
      "cell_type": "code",
      "metadata": {
        "id": "U9iKABxrbDSJ",
        "outputId": "ebf87560-d177-460b-c111-cc68449df066",
        "colab": {
          "base_uri": "https://localhost:8080/"
        }
      },
      "source": [
        "n = int(input())\n",
        "array = set(map(int,input().split()))\n",
        "\n",
        "m = int(input())\n",
        "x = list(map(int,input().split()))\n",
        "\n",
        "for i in x:\n",
        "    if i in array:\n",
        "        print('yes', end=' ')\n",
        "    else:\n",
        "        print('no',end=' ')"
      ],
      "execution_count": 38,
      "outputs": [
        {
          "output_type": "stream",
          "name": "stdout",
          "text": [
            "5\n",
            "8 3 7 9 2\n",
            "3 \n",
            "5 7 9\n",
            "no yes yes "
          ]
        }
      ]
    },
    {
      "cell_type": "code",
      "metadata": {
        "colab": {
          "base_uri": "https://localhost:8080/"
        },
        "id": "x_BKoIk3x7J1",
        "outputId": "c906d226-bb15-4155-d866-dde86f80f546"
      },
      "source": [
        "# 떡볶이 떡 만들기\n",
        "# 파라메트릭 서치(parametric search) + 이진탐색(binary search)\n",
        "\n",
        "n,m = list(map(int,input().split()))\n",
        "array = list(map(int,input().split()))\n",
        "\n",
        "start = 0\n",
        "end = max(array)\n",
        "\n",
        "result = 0\n",
        "while start <= end:\n",
        "    total = 0\n",
        "    mid = (start + end) // 2\n",
        "    for x in array:\n",
        "        if x > mid:\n",
        "            total += x-mid\n",
        "    \n",
        "    if total < m :\n",
        "        end = mid - 1\n",
        "    else:\n",
        "        result = mid\n",
        "        start = mid + 1\n",
        "\n",
        "print(result)"
      ],
      "execution_count": 43,
      "outputs": [
        {
          "output_type": "stream",
          "name": "stdout",
          "text": [
            "4 6\n",
            "19 15 10 17\n",
            "15\n"
          ]
        }
      ]
    }
  ]
}