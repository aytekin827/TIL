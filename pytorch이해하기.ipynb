{
  "nbformat": 4,
  "nbformat_minor": 0,
  "metadata": {
    "colab": {
      "provenance": [],
      "collapsed_sections": [
        "SqgT9C1qjr5S"
      ],
      "authorship_tag": "ABX9TyNI5wFDWJ7qeB7O1yvk5xUy",
      "include_colab_link": true
    },
    "kernelspec": {
      "name": "python3",
      "display_name": "Python 3"
    },
    "language_info": {
      "name": "python"
    }
  },
  "cells": [
    {
      "cell_type": "markdown",
      "metadata": {
        "id": "view-in-github",
        "colab_type": "text"
      },
      "source": [
        "<a href=\"https://colab.research.google.com/github/aytekin827/TIL/blob/main/pytorch%EC%9D%B4%ED%95%B4%ED%95%98%EA%B8%B0.ipynb\" target=\"_parent\"><img src=\"https://colab.research.google.com/assets/colab-badge.svg\" alt=\"Open In Colab\"/></a>"
      ]
    },
    {
      "cell_type": "markdown",
      "source": [
        "torch.sum() 이해하기"
      ],
      "metadata": {
        "id": "JB1mnQ-TjPyr"
      }
    },
    {
      "cell_type": "code",
      "source": [
        "import torch\n",
        "import torch.nn as nn"
      ],
      "metadata": {
        "id": "cPewtQDWjXTS"
      },
      "execution_count": null,
      "outputs": []
    },
    {
      "cell_type": "markdown",
      "source": [
        "# 2차원 텐서 계산"
      ],
      "metadata": {
        "id": "2R2W_IqVjchq"
      }
    },
    {
      "cell_type": "code",
      "execution_count": null,
      "metadata": {
        "colab": {
          "base_uri": "https://localhost:8080/"
        },
        "id": "xQHvimLbjLgc",
        "outputId": "fa704f07-93b2-41ee-a35e-4ca765235c2d"
      },
      "outputs": [
        {
          "output_type": "stream",
          "name": "stdout",
          "text": [
            "tensor([[ 0,  1,  2,  3],\n",
            "        [ 4,  5,  6,  7],\n",
            "        [ 8,  9, 10, 11],\n",
            "        [12, 13, 14, 15]])\n"
          ]
        }
      ],
      "source": [
        "a=  torch.arange(4*4).view(4,4)\n",
        "print(a)"
      ]
    },
    {
      "cell_type": "code",
      "source": [
        "torch.sum(a) # 모두 다 더함"
      ],
      "metadata": {
        "colab": {
          "base_uri": "https://localhost:8080/"
        },
        "id": "hVcerPyqjfdv",
        "outputId": "af724bee-cb3a-4551-c008-211b33d91926"
      },
      "execution_count": null,
      "outputs": [
        {
          "output_type": "execute_result",
          "data": {
            "text/plain": [
              "tensor(120)"
            ]
          },
          "metadata": {},
          "execution_count": 5
        }
      ]
    },
    {
      "cell_type": "code",
      "source": [
        "torch.sum(a,dim=0) # 열을 기준으로 더함"
      ],
      "metadata": {
        "colab": {
          "base_uri": "https://localhost:8080/"
        },
        "id": "HTcXH9bYji88",
        "outputId": "24e768c0-4fc0-4272-8bda-90526ec0ad01"
      },
      "execution_count": null,
      "outputs": [
        {
          "output_type": "execute_result",
          "data": {
            "text/plain": [
              "tensor([24, 28, 32, 36])"
            ]
          },
          "metadata": {},
          "execution_count": 6
        }
      ]
    },
    {
      "cell_type": "code",
      "source": [
        "torch.sum(a, dim=1) # 행을 기준으로 더함"
      ],
      "metadata": {
        "colab": {
          "base_uri": "https://localhost:8080/"
        },
        "id": "ZowAyTWcjnU9",
        "outputId": "33323c27-03b6-4112-f9f2-fa2c592d867d"
      },
      "execution_count": null,
      "outputs": [
        {
          "output_type": "execute_result",
          "data": {
            "text/plain": [
              "tensor([ 6, 22, 38, 54])"
            ]
          },
          "metadata": {},
          "execution_count": 7
        }
      ]
    },
    {
      "cell_type": "markdown",
      "source": [
        "# 3차원 이상 텐서 계산"
      ],
      "metadata": {
        "id": "SqgT9C1qjr5S"
      }
    },
    {
      "cell_type": "code",
      "source": [
        "x = torch.arange(2*3*4).view(2,3,4)\n",
        "print(x.shape)\n",
        "print(x)"
      ],
      "metadata": {
        "colab": {
          "base_uri": "https://localhost:8080/"
        },
        "id": "05Uhp7hIjqDM",
        "outputId": "9bcaab37-c351-4b8c-cb21-0e08cf9fe3e5"
      },
      "execution_count": null,
      "outputs": [
        {
          "output_type": "stream",
          "name": "stdout",
          "text": [
            "torch.Size([2, 3, 4])\n",
            "tensor([[[ 0,  1,  2,  3],\n",
            "         [ 4,  5,  6,  7],\n",
            "         [ 8,  9, 10, 11]],\n",
            "\n",
            "        [[12, 13, 14, 15],\n",
            "         [16, 17, 18, 19],\n",
            "         [20, 21, 22, 23]]])\n"
          ]
        }
      ]
    },
    {
      "cell_type": "code",
      "source": [
        "torch.sum(x) # 모두 다 더함"
      ],
      "metadata": {
        "colab": {
          "base_uri": "https://localhost:8080/"
        },
        "id": "9czWPMX0j1f7",
        "outputId": "4d1a858a-f48f-4447-f520-6ec1e8103343"
      },
      "execution_count": null,
      "outputs": [
        {
          "output_type": "execute_result",
          "data": {
            "text/plain": [
              "tensor(276)"
            ]
          },
          "metadata": {},
          "execution_count": 10
        }
      ]
    },
    {
      "cell_type": "code",
      "source": [
        "print(torch.sum(x, dim=0).shape)\n",
        "torch.sum(x, dim=0)\n",
        "# 0번째 인덱스에 있는 차원이 더해져 없어진다."
      ],
      "metadata": {
        "colab": {
          "base_uri": "https://localhost:8080/"
        },
        "id": "6UE-_4Kej6Gz",
        "outputId": "6f915ad3-2ab4-4cd1-8577-86f665fde53c"
      },
      "execution_count": null,
      "outputs": [
        {
          "output_type": "stream",
          "name": "stdout",
          "text": [
            "torch.Size([3, 4])\n"
          ]
        },
        {
          "output_type": "execute_result",
          "data": {
            "text/plain": [
              "tensor([[12, 14, 16, 18],\n",
              "        [20, 22, 24, 26],\n",
              "        [28, 30, 32, 34]])"
            ]
          },
          "metadata": {},
          "execution_count": 13
        }
      ]
    },
    {
      "cell_type": "code",
      "source": [
        "print(torch.sum(x, dim=1).shape)\n",
        "torch.sum(x, dim=1)\n",
        "# 1번째 인덱스에 있는 차원이 더해져 없어진다."
      ],
      "metadata": {
        "colab": {
          "base_uri": "https://localhost:8080/"
        },
        "id": "ZME1W-OakPhJ",
        "outputId": "fa503a26-43f7-4ae6-adac-5b111cfdc1ad"
      },
      "execution_count": null,
      "outputs": [
        {
          "output_type": "stream",
          "name": "stdout",
          "text": [
            "torch.Size([2, 4])\n"
          ]
        },
        {
          "output_type": "execute_result",
          "data": {
            "text/plain": [
              "tensor([[12, 15, 18, 21],\n",
              "        [48, 51, 54, 57]])"
            ]
          },
          "metadata": {},
          "execution_count": 14
        }
      ]
    },
    {
      "cell_type": "code",
      "source": [
        "print(torch.sum(x, dim=2).shape)\n",
        "torch.sum(x, dim=2)\n",
        "# 2번째 인덱스에 있는 차원이 더해져 없어진다."
      ],
      "metadata": {
        "colab": {
          "base_uri": "https://localhost:8080/"
        },
        "id": "9LgoE1Kdkw9L",
        "outputId": "e0439e21-53f0-4d7a-a92e-f93b7e098a6e"
      },
      "execution_count": null,
      "outputs": [
        {
          "output_type": "stream",
          "name": "stdout",
          "text": [
            "torch.Size([2, 3])\n"
          ]
        },
        {
          "output_type": "execute_result",
          "data": {
            "text/plain": [
              "tensor([[ 6, 22, 38],\n",
              "        [54, 70, 86]])"
            ]
          },
          "metadata": {},
          "execution_count": 15
        }
      ]
    },
    {
      "cell_type": "markdown",
      "source": [
        "# 4차원 텐서 계산\n"
      ],
      "metadata": {
        "id": "CkBFiyVVk3mr"
      }
    },
    {
      "cell_type": "code",
      "source": [
        "q = torch.arange(2*3*4*5).view(2,3,4,5)\n",
        "print(q.shape)\n",
        "print(q)"
      ],
      "metadata": {
        "colab": {
          "base_uri": "https://localhost:8080/"
        },
        "id": "pE0oWHEbk55q",
        "outputId": "f62920d6-cbb2-4639-dd3b-51c138cb421a"
      },
      "execution_count": null,
      "outputs": [
        {
          "output_type": "stream",
          "name": "stdout",
          "text": [
            "torch.Size([2, 3, 4, 5])\n",
            "tensor([[[[  0,   1,   2,   3,   4],\n",
            "          [  5,   6,   7,   8,   9],\n",
            "          [ 10,  11,  12,  13,  14],\n",
            "          [ 15,  16,  17,  18,  19]],\n",
            "\n",
            "         [[ 20,  21,  22,  23,  24],\n",
            "          [ 25,  26,  27,  28,  29],\n",
            "          [ 30,  31,  32,  33,  34],\n",
            "          [ 35,  36,  37,  38,  39]],\n",
            "\n",
            "         [[ 40,  41,  42,  43,  44],\n",
            "          [ 45,  46,  47,  48,  49],\n",
            "          [ 50,  51,  52,  53,  54],\n",
            "          [ 55,  56,  57,  58,  59]]],\n",
            "\n",
            "\n",
            "        [[[ 60,  61,  62,  63,  64],\n",
            "          [ 65,  66,  67,  68,  69],\n",
            "          [ 70,  71,  72,  73,  74],\n",
            "          [ 75,  76,  77,  78,  79]],\n",
            "\n",
            "         [[ 80,  81,  82,  83,  84],\n",
            "          [ 85,  86,  87,  88,  89],\n",
            "          [ 90,  91,  92,  93,  94],\n",
            "          [ 95,  96,  97,  98,  99]],\n",
            "\n",
            "         [[100, 101, 102, 103, 104],\n",
            "          [105, 106, 107, 108, 109],\n",
            "          [110, 111, 112, 113, 114],\n",
            "          [115, 116, 117, 118, 119]]]])\n"
          ]
        }
      ]
    },
    {
      "cell_type": "code",
      "source": [
        "torch.sum(q) # 모두 다 더함"
      ],
      "metadata": {
        "colab": {
          "base_uri": "https://localhost:8080/"
        },
        "id": "Y0ujH4utk9_7",
        "outputId": "c51e3a11-5686-40c2-8bac-9e28a4bed5e4"
      },
      "execution_count": null,
      "outputs": [
        {
          "output_type": "execute_result",
          "data": {
            "text/plain": [
              "tensor(7140)"
            ]
          },
          "metadata": {},
          "execution_count": 18
        }
      ]
    },
    {
      "cell_type": "code",
      "source": [
        "print(torch.sum(q, dim=0).shape)\n",
        "torch.sum(q, dim=0)\n",
        "# 0번째 인덱스에 있는 차원이 더해져 없어진다."
      ],
      "metadata": {
        "colab": {
          "base_uri": "https://localhost:8080/"
        },
        "id": "rESKT9ADlCpa",
        "outputId": "149a41db-33fa-4d8e-8883-d66d38c09c0c"
      },
      "execution_count": null,
      "outputs": [
        {
          "output_type": "stream",
          "name": "stdout",
          "text": [
            "torch.Size([3, 4, 5])\n"
          ]
        },
        {
          "output_type": "execute_result",
          "data": {
            "text/plain": [
              "tensor([[[ 60,  62,  64,  66,  68],\n",
              "         [ 70,  72,  74,  76,  78],\n",
              "         [ 80,  82,  84,  86,  88],\n",
              "         [ 90,  92,  94,  96,  98]],\n",
              "\n",
              "        [[100, 102, 104, 106, 108],\n",
              "         [110, 112, 114, 116, 118],\n",
              "         [120, 122, 124, 126, 128],\n",
              "         [130, 132, 134, 136, 138]],\n",
              "\n",
              "        [[140, 142, 144, 146, 148],\n",
              "         [150, 152, 154, 156, 158],\n",
              "         [160, 162, 164, 166, 168],\n",
              "         [170, 172, 174, 176, 178]]])"
            ]
          },
          "metadata": {},
          "execution_count": 19
        }
      ]
    },
    {
      "cell_type": "code",
      "source": [
        "print(torch.sum(q, dim=1).shape)\n",
        "torch.sum(q, dim=1)\n",
        "# 1번째 인덱스에 있는 차원이 더해져 없어진다."
      ],
      "metadata": {
        "colab": {
          "base_uri": "https://localhost:8080/"
        },
        "id": "9bYPna7BlHYC",
        "outputId": "3f4996c1-b129-45e6-dd3f-eeca8316bda4"
      },
      "execution_count": null,
      "outputs": [
        {
          "output_type": "stream",
          "name": "stdout",
          "text": [
            "torch.Size([2, 4, 5])\n"
          ]
        },
        {
          "output_type": "execute_result",
          "data": {
            "text/plain": [
              "tensor([[[ 60,  63,  66,  69,  72],\n",
              "         [ 75,  78,  81,  84,  87],\n",
              "         [ 90,  93,  96,  99, 102],\n",
              "         [105, 108, 111, 114, 117]],\n",
              "\n",
              "        [[240, 243, 246, 249, 252],\n",
              "         [255, 258, 261, 264, 267],\n",
              "         [270, 273, 276, 279, 282],\n",
              "         [285, 288, 291, 294, 297]]])"
            ]
          },
          "metadata": {},
          "execution_count": 20
        }
      ]
    },
    {
      "cell_type": "code",
      "source": [
        "print(torch.sum(q, dim=2).shape)\n",
        "torch.sum(q, dim=2)\n",
        "# 2번째 인덱스에 있는 차원이 더해져 없어진다."
      ],
      "metadata": {
        "colab": {
          "base_uri": "https://localhost:8080/"
        },
        "id": "dyfw89RalYXd",
        "outputId": "84f18694-afec-4b33-ed2b-5d47c2aede13"
      },
      "execution_count": null,
      "outputs": [
        {
          "output_type": "stream",
          "name": "stdout",
          "text": [
            "torch.Size([2, 3, 5])\n"
          ]
        },
        {
          "output_type": "execute_result",
          "data": {
            "text/plain": [
              "tensor([[[ 30,  34,  38,  42,  46],\n",
              "         [110, 114, 118, 122, 126],\n",
              "         [190, 194, 198, 202, 206]],\n",
              "\n",
              "        [[270, 274, 278, 282, 286],\n",
              "         [350, 354, 358, 362, 366],\n",
              "         [430, 434, 438, 442, 446]]])"
            ]
          },
          "metadata": {},
          "execution_count": 21
        }
      ]
    },
    {
      "cell_type": "code",
      "source": [
        "print(torch.sum(q, dim=3).shape)\n",
        "torch.sum(q, dim=3)\n",
        "# 3번째 인덱스에 있는 차원이 더해져 없어진다."
      ],
      "metadata": {
        "colab": {
          "base_uri": "https://localhost:8080/"
        },
        "id": "fbF3FqpXliuM",
        "outputId": "b8c18a77-3ae3-4d18-f4c3-e3dabe551f61"
      },
      "execution_count": null,
      "outputs": [
        {
          "output_type": "stream",
          "name": "stdout",
          "text": [
            "torch.Size([2, 3, 4])\n"
          ]
        },
        {
          "output_type": "execute_result",
          "data": {
            "text/plain": [
              "tensor([[[ 10,  35,  60,  85],\n",
              "         [110, 135, 160, 185],\n",
              "         [210, 235, 260, 285]],\n",
              "\n",
              "        [[310, 335, 360, 385],\n",
              "         [410, 435, 460, 485],\n",
              "         [510, 535, 560, 585]]])"
            ]
          },
          "metadata": {},
          "execution_count": 22
        }
      ]
    },
    {
      "cell_type": "markdown",
      "source": [
        "# keepdim(bool)\n",
        " - default = False\n",
        "\n",
        "\n",
        "keepdim => whether the output tensor has dim retained or not.  \n",
        "합계산을 하고 나서 해당 dimension을 그대로 유지할건지 옵션임  \n",
        "\n"
      ],
      "metadata": {
        "id": "cbWhyumnl-nR"
      }
    },
    {
      "cell_type": "code",
      "source": [
        "a=  torch.arange(4*4).view(4,4)\n",
        "print(a)"
      ],
      "metadata": {
        "colab": {
          "base_uri": "https://localhost:8080/"
        },
        "id": "8rdtoTljmAfK",
        "outputId": "20be01f9-a409-4e91-f0da-d0ab5f9da883"
      },
      "execution_count": null,
      "outputs": [
        {
          "output_type": "stream",
          "name": "stdout",
          "text": [
            "tensor([[ 0,  1,  2,  3],\n",
            "        [ 4,  5,  6,  7],\n",
            "        [ 8,  9, 10, 11],\n",
            "        [12, 13, 14, 15]])\n"
          ]
        }
      ]
    },
    {
      "cell_type": "code",
      "source": [
        "print(torch.sum(a,dim=1,keepdim=True).shape)\n",
        "torch.sum(a,dim=1,keepdim=True)"
      ],
      "metadata": {
        "colab": {
          "base_uri": "https://localhost:8080/"
        },
        "id": "8nBzqFjbmDHr",
        "outputId": "ccd137c2-3f06-4aa2-c3e0-dee64255666a"
      },
      "execution_count": null,
      "outputs": [
        {
          "output_type": "stream",
          "name": "stdout",
          "text": [
            "torch.Size([4, 1])\n"
          ]
        },
        {
          "output_type": "execute_result",
          "data": {
            "text/plain": [
              "tensor([[ 6],\n",
              "        [22],\n",
              "        [38],\n",
              "        [54]])"
            ]
          },
          "metadata": {},
          "execution_count": 27
        }
      ]
    },
    {
      "cell_type": "code",
      "source": [
        "print(torch.sum(a,dim=1,keepdim=False).shape)\n",
        "torch.sum(a,dim=1,keepdim=False)"
      ],
      "metadata": {
        "colab": {
          "base_uri": "https://localhost:8080/"
        },
        "id": "rhz3afKUmIrr",
        "outputId": "71cd2315-fe48-4533-f997-401701a092ae"
      },
      "execution_count": null,
      "outputs": [
        {
          "output_type": "stream",
          "name": "stdout",
          "text": [
            "torch.Size([4])\n"
          ]
        },
        {
          "output_type": "execute_result",
          "data": {
            "text/plain": [
              "tensor([ 6, 22, 38, 54])"
            ]
          },
          "metadata": {},
          "execution_count": 26
        }
      ]
    },
    {
      "cell_type": "code",
      "source": [
        "x = torch.arange(2*3*4).view(2,3,4)\n",
        "print(x.shape)\n",
        "print(x)"
      ],
      "metadata": {
        "colab": {
          "base_uri": "https://localhost:8080/"
        },
        "id": "rsOU8NhMmYvr",
        "outputId": "79f01c20-3568-405a-a9d5-919e0cde5cb1"
      },
      "execution_count": null,
      "outputs": [
        {
          "output_type": "stream",
          "name": "stdout",
          "text": [
            "torch.Size([2, 3, 4])\n",
            "tensor([[[ 0,  1,  2,  3],\n",
            "         [ 4,  5,  6,  7],\n",
            "         [ 8,  9, 10, 11]],\n",
            "\n",
            "        [[12, 13, 14, 15],\n",
            "         [16, 17, 18, 19],\n",
            "         [20, 21, 22, 23]]])\n"
          ]
        }
      ]
    },
    {
      "cell_type": "code",
      "source": [
        "print(torch.sum(x,dim=1,keepdim=True).shape)\n",
        "torch.sum(x,dim=1,keepdim=True)"
      ],
      "metadata": {
        "colab": {
          "base_uri": "https://localhost:8080/"
        },
        "id": "9JYtozE7maDK",
        "outputId": "a94d0506-bf95-4ce4-f60b-449351671178"
      },
      "execution_count": null,
      "outputs": [
        {
          "output_type": "stream",
          "name": "stdout",
          "text": [
            "torch.Size([2, 1, 4])\n"
          ]
        },
        {
          "output_type": "execute_result",
          "data": {
            "text/plain": [
              "tensor([[[12, 15, 18, 21]],\n",
              "\n",
              "        [[48, 51, 54, 57]]])"
            ]
          },
          "metadata": {},
          "execution_count": 29
        }
      ]
    },
    {
      "cell_type": "code",
      "source": [
        "print(torch.sum(x,dim=1,keepdim=False).shape)\n",
        "torch.sum(x,dim=1,keepdim=False)"
      ],
      "metadata": {
        "colab": {
          "base_uri": "https://localhost:8080/"
        },
        "id": "bW4NlAkFmdSR",
        "outputId": "fa3430ba-d383-48bc-81b6-b54a754cafb7"
      },
      "execution_count": null,
      "outputs": [
        {
          "output_type": "stream",
          "name": "stdout",
          "text": [
            "torch.Size([2, 4])\n"
          ]
        },
        {
          "output_type": "execute_result",
          "data": {
            "text/plain": [
              "tensor([[12, 15, 18, 21],\n",
              "        [48, 51, 54, 57]])"
            ]
          },
          "metadata": {},
          "execution_count": 30
        }
      ]
    },
    {
      "cell_type": "markdown",
      "source": [
        "# backwor() 이해하기"
      ],
      "metadata": {
        "id": "iEhMwg_F_bsn"
      }
    },
    {
      "cell_type": "code",
      "source": [
        "import torch\n",
        "\n",
        "y = torch.ones(1,3, requires_grad=True)\n",
        "y = y * 2\n",
        "y = y * y\n",
        "y"
      ],
      "metadata": {
        "colab": {
          "base_uri": "https://localhost:8080/"
        },
        "id": "YZiOKhvB_eU3",
        "outputId": "ccf8c24e-6e50-4904-c051-9793dd8447b1"
      },
      "execution_count": 15,
      "outputs": [
        {
          "output_type": "execute_result",
          "data": {
            "text/plain": [
              "tensor([[4., 4., 4.]], grad_fn=<MulBackward0>)"
            ]
          },
          "metadata": {},
          "execution_count": 15
        }
      ]
    },
    {
      "cell_type": "code",
      "source": [
        "v = torch.tensor([[3,5,9]], dtype=torch.float)\n",
        "y.backward(v)\n",
        "\n",
        "print(y.grad)"
      ],
      "metadata": {
        "colab": {
          "base_uri": "https://localhost:8080/"
        },
        "id": "qQAVoFYp_knC",
        "outputId": "0f0b1b3c-7d47-495c-e1ef-2628001bf337"
      },
      "execution_count": 16,
      "outputs": [
        {
          "output_type": "stream",
          "name": "stdout",
          "text": [
            "None\n"
          ]
        },
        {
          "output_type": "stream",
          "name": "stderr",
          "text": [
            "<ipython-input-16-40655b1e4d7e>:4: UserWarning: The .grad attribute of a Tensor that is not a leaf Tensor is being accessed. Its .grad attribute won't be populated during autograd.backward(). If you indeed want the .grad field to be populated for a non-leaf Tensor, use .retain_grad() on the non-leaf Tensor. If you access the non-leaf Tensor by mistake, make sure you access the leaf Tensor instead. See github.com/pytorch/pytorch/pull/30531 for more informations. (Triggered internally at aten/src/ATen/core/TensorBody.h:486.)\n",
            "  print(y.grad)\n"
          ]
        }
      ]
    },
    {
      "cell_type": "code",
      "source": [
        "a = torch.ones(2,2)\n",
        "print(a)"
      ],
      "metadata": {
        "colab": {
          "base_uri": "https://localhost:8080/"
        },
        "id": "dpenmLaXHddN",
        "outputId": "cdb4253d-744c-43db-c46e-94a11e54d07b"
      },
      "execution_count": 17,
      "outputs": [
        {
          "output_type": "stream",
          "name": "stdout",
          "text": [
            "tensor([[1., 1.],\n",
            "        [1., 1.]])\n"
          ]
        }
      ]
    },
    {
      "cell_type": "code",
      "source": [
        "a = torch.ones(2,2, requires_grad=True)\n",
        "print(a)"
      ],
      "metadata": {
        "colab": {
          "base_uri": "https://localhost:8080/"
        },
        "id": "TCNIHB8THuVm",
        "outputId": "1a7e0956-9267-4ee5-e956-9d5b963b69be"
      },
      "execution_count": 18,
      "outputs": [
        {
          "output_type": "stream",
          "name": "stdout",
          "text": [
            "tensor([[1., 1.],\n",
            "        [1., 1.]], requires_grad=True)\n"
          ]
        }
      ]
    },
    {
      "cell_type": "code",
      "source": [
        "print(a.data)\n",
        "print(a.grad)\n",
        "print(a.grad_fn)"
      ],
      "metadata": {
        "colab": {
          "base_uri": "https://localhost:8080/"
        },
        "id": "8jooXmeQHzWd",
        "outputId": "e63ed89e-15b3-43aa-d248-147427a048e2"
      },
      "execution_count": 19,
      "outputs": [
        {
          "output_type": "stream",
          "name": "stdout",
          "text": [
            "tensor([[1., 1.],\n",
            "        [1., 1.]])\n",
            "None\n",
            "None\n"
          ]
        }
      ]
    },
    {
      "cell_type": "code",
      "source": [
        "b = a + 2\n",
        "print(b)"
      ],
      "metadata": {
        "colab": {
          "base_uri": "https://localhost:8080/"
        },
        "id": "rEzc2_OmH3dy",
        "outputId": "125bffd2-27ac-4529-cecb-e1535cea8878"
      },
      "execution_count": 20,
      "outputs": [
        {
          "output_type": "stream",
          "name": "stdout",
          "text": [
            "tensor([[3., 3.],\n",
            "        [3., 3.]], grad_fn=<AddBackward0>)\n"
          ]
        }
      ]
    },
    {
      "cell_type": "code",
      "source": [
        "c = b ** 2\n",
        "print(c)"
      ],
      "metadata": {
        "colab": {
          "base_uri": "https://localhost:8080/"
        },
        "id": "JUP7NDqHH9X_",
        "outputId": "f14e620f-09f6-41cd-b9a8-fbfe32bf239d"
      },
      "execution_count": 21,
      "outputs": [
        {
          "output_type": "stream",
          "name": "stdout",
          "text": [
            "tensor([[9., 9.],\n",
            "        [9., 9.]], grad_fn=<PowBackward0>)\n"
          ]
        }
      ]
    },
    {
      "cell_type": "code",
      "source": [
        "out = c.sum()\n",
        "print(out)"
      ],
      "metadata": {
        "colab": {
          "base_uri": "https://localhost:8080/"
        },
        "id": "WjfGWc83IBFB",
        "outputId": "fa3d27ad-25b1-4ac0-971e-fd6a7aa9abab"
      },
      "execution_count": 22,
      "outputs": [
        {
          "output_type": "stream",
          "name": "stdout",
          "text": [
            "tensor(36., grad_fn=<SumBackward0>)\n"
          ]
        }
      ]
    },
    {
      "cell_type": "code",
      "source": [
        "print(out)\n",
        "out.backward()"
      ],
      "metadata": {
        "colab": {
          "base_uri": "https://localhost:8080/"
        },
        "id": "ZEN-HEHkIG2r",
        "outputId": "0b0eca3d-c665-44f2-bf59-2b7566568885"
      },
      "execution_count": 24,
      "outputs": [
        {
          "output_type": "stream",
          "name": "stdout",
          "text": [
            "tensor(36., grad_fn=<SumBackward0>)\n"
          ]
        }
      ]
    },
    {
      "cell_type": "code",
      "source": [
        "print(a.data)\n",
        "print(a.grad)\n",
        "print(a.grad_fn)"
      ],
      "metadata": {
        "colab": {
          "base_uri": "https://localhost:8080/"
        },
        "id": "4ggIqS-KILR3",
        "outputId": "4982007b-cd3f-4c1a-d9a8-2bd88cc31252"
      },
      "execution_count": 25,
      "outputs": [
        {
          "output_type": "stream",
          "name": "stdout",
          "text": [
            "tensor([[1., 1.],\n",
            "        [1., 1.]])\n",
            "tensor([[6., 6.],\n",
            "        [6., 6.]])\n",
            "None\n"
          ]
        }
      ]
    },
    {
      "cell_type": "code",
      "source": [
        "a = torch.ones(2,2, requires_grad=True)\n",
        "b = a + 2\n",
        "c = b ** 2\n",
        "out = c.sum()\n",
        "out.backward()\n",
        "print(a.grad)"
      ],
      "metadata": {
        "colab": {
          "base_uri": "https://localhost:8080/"
        },
        "id": "_UNsC5dIITd1",
        "outputId": "05f0dc39-a07c-43c9-bb02-e7342493c817"
      },
      "execution_count": 34,
      "outputs": [
        {
          "output_type": "stream",
          "name": "stdout",
          "text": [
            "tensor([[6., 6.],\n",
            "        [6., 6.]])\n"
          ]
        }
      ]
    },
    {
      "cell_type": "code",
      "source": [
        "print(out.grad)\n",
        "print(c.grad)\n",
        "print(b.grad)\n",
        "print(a.grad)"
      ],
      "metadata": {
        "colab": {
          "base_uri": "https://localhost:8080/"
        },
        "id": "M_nqMsntI3DC",
        "outputId": "5bab5b7e-68e4-4e2f-cf7c-5e4e8cd227a4"
      },
      "execution_count": 31,
      "outputs": [
        {
          "output_type": "stream",
          "name": "stdout",
          "text": [
            "None\n",
            "None\n",
            "None\n",
            "tensor([[6., 6.],\n",
            "        [6., 6.]])\n"
          ]
        },
        {
          "output_type": "stream",
          "name": "stderr",
          "text": [
            "<ipython-input-31-b2f3241f9feb>:1: UserWarning: The .grad attribute of a Tensor that is not a leaf Tensor is being accessed. Its .grad attribute won't be populated during autograd.backward(). If you indeed want the .grad field to be populated for a non-leaf Tensor, use .retain_grad() on the non-leaf Tensor. If you access the non-leaf Tensor by mistake, make sure you access the leaf Tensor instead. See github.com/pytorch/pytorch/pull/30531 for more informations. (Triggered internally at aten/src/ATen/core/TensorBody.h:486.)\n",
            "  print(out.grad)\n",
            "<ipython-input-31-b2f3241f9feb>:2: UserWarning: The .grad attribute of a Tensor that is not a leaf Tensor is being accessed. Its .grad attribute won't be populated during autograd.backward(). If you indeed want the .grad field to be populated for a non-leaf Tensor, use .retain_grad() on the non-leaf Tensor. If you access the non-leaf Tensor by mistake, make sure you access the leaf Tensor instead. See github.com/pytorch/pytorch/pull/30531 for more informations. (Triggered internally at aten/src/ATen/core/TensorBody.h:486.)\n",
            "  print(c.grad)\n",
            "<ipython-input-31-b2f3241f9feb>:3: UserWarning: The .grad attribute of a Tensor that is not a leaf Tensor is being accessed. Its .grad attribute won't be populated during autograd.backward(). If you indeed want the .grad field to be populated for a non-leaf Tensor, use .retain_grad() on the non-leaf Tensor. If you access the non-leaf Tensor by mistake, make sure you access the leaf Tensor instead. See github.com/pytorch/pytorch/pull/30531 for more informations. (Triggered internally at aten/src/ATen/core/TensorBody.h:486.)\n",
            "  print(b.grad)\n"
          ]
        }
      ]
    }
  ]
}