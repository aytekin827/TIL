{
  "nbformat": 4,
  "nbformat_minor": 0,
  "metadata": {
    "colab": {
      "provenance": [],
      "authorship_tag": "ABX9TyMVv2tRfjJipjng81V3SvTb",
      "include_colab_link": true
    },
    "kernelspec": {
      "name": "python3",
      "display_name": "Python 3"
    },
    "language_info": {
      "name": "python"
    }
  },
  "cells": [
    {
      "cell_type": "markdown",
      "metadata": {
        "id": "view-in-github",
        "colab_type": "text"
      },
      "source": [
        "<a href=\"https://colab.research.google.com/github/aytekin827/TIL/blob/main/%ED%8C%8C%EC%9D%B4%EC%8D%AC_Super().ipynb\" target=\"_parent\"><img src=\"https://colab.research.google.com/assets/colab-badge.svg\" alt=\"Open In Colab\"/></a>"
      ]
    },
    {
      "cell_type": "markdown",
      "source": [
        "# python super 기능 정리"
      ],
      "metadata": {
        "id": "DGWI5WdyxVOn"
      }
    },
    {
      "cell_type": "markdown",
      "source": [
        "`super.__init__()`이 없음\n",
        "\n",
        "=> student에서 상위 클래스를 초기화하지 않았음"
      ],
      "metadata": {
        "id": "7h4Aysdbxj3H"
      }
    },
    {
      "cell_type": "code",
      "execution_count": 1,
      "metadata": {
        "colab": {
          "base_uri": "https://localhost:8080/",
          "height": 258
        },
        "id": "7K5TAzk5wVbn",
        "outputId": "e016118c-1a03-4974-fc0d-a2d842d94a92"
      },
      "outputs": [
        {
          "output_type": "stream",
          "name": "stdout",
          "text": [
            "Student __init__\n",
            "파이썬 코딩 도장\n"
          ]
        },
        {
          "output_type": "error",
          "ename": "AttributeError",
          "evalue": "ignored",
          "traceback": [
            "\u001b[0;31m---------------------------------------------------------------------------\u001b[0m",
            "\u001b[0;31mAttributeError\u001b[0m                            Traceback (most recent call last)",
            "\u001b[0;32m<ipython-input-1-4e44c0b0d4ba>\u001b[0m in \u001b[0;36m<cell line: 13>\u001b[0;34m()\u001b[0m\n\u001b[1;32m     11\u001b[0m \u001b[0mjames\u001b[0m \u001b[0;34m=\u001b[0m \u001b[0mStudent\u001b[0m\u001b[0;34m(\u001b[0m\u001b[0;34m)\u001b[0m\u001b[0;34m\u001b[0m\u001b[0;34m\u001b[0m\u001b[0m\n\u001b[1;32m     12\u001b[0m \u001b[0mprint\u001b[0m\u001b[0;34m(\u001b[0m\u001b[0mjames\u001b[0m\u001b[0;34m.\u001b[0m\u001b[0mschool\u001b[0m\u001b[0;34m)\u001b[0m\u001b[0;34m\u001b[0m\u001b[0;34m\u001b[0m\u001b[0m\n\u001b[0;32m---> 13\u001b[0;31m \u001b[0mprint\u001b[0m\u001b[0;34m(\u001b[0m\u001b[0mjames\u001b[0m\u001b[0;34m.\u001b[0m\u001b[0mhello\u001b[0m\u001b[0;34m)\u001b[0m    \u001b[0;31m# 기반 클래스의 속성을 출력하려고 하면 에러가 발생함\u001b[0m\u001b[0;34m\u001b[0m\u001b[0;34m\u001b[0m\u001b[0m\n\u001b[0m",
            "\u001b[0;31mAttributeError\u001b[0m: 'Student' object has no attribute 'hello'"
          ]
        }
      ],
      "source": [
        "class Person:\n",
        "    def __init__(self):\n",
        "        print('Person __init__')\n",
        "        self.hello = '안녕하세요.'\n",
        "\n",
        "class Student(Person):\n",
        "    def __init__(self):\n",
        "        print('Student __init__')\n",
        "        self.school = '파이썬 코딩 도장'\n",
        "\n",
        "james = Student()\n",
        "print(james.school)\n",
        "print(james.hello)    # 기반 클래스의 속성을 출력하려고 하면 에러가 발생함"
      ]
    },
    {
      "cell_type": "markdown",
      "source": [
        "`super.__init__()`이 있음\n",
        "\n",
        "=> 상위 클래스가 같이 초기화가 되고 따라서 Person클래스에 속하는 hello라는 클래스 속성을 사용할 수 있음"
      ],
      "metadata": {
        "id": "QFJdedEXxuBn"
      }
    },
    {
      "cell_type": "code",
      "source": [
        "class Person:\n",
        "    def __init__(self):\n",
        "        print('Person __init__')\n",
        "        self.hello = '안녕하세요.'\n",
        "\n",
        "class Student(Person):\n",
        "    def __init__(self):\n",
        "        print('Student __init__')\n",
        "        super().__init__()                # super()로 기반 클래스의 __init__ 메서드 호출\n",
        "        self.school = '파이썬 코딩 도장'\n",
        "\n",
        "james = Student()\n",
        "print(james.school)\n",
        "print(james.hello)"
      ],
      "metadata": {
        "colab": {
          "base_uri": "https://localhost:8080/"
        },
        "id": "rMy7paHZw8V7",
        "outputId": "24ae370b-2600-4c81-d399-7429c685b511"
      },
      "execution_count": 2,
      "outputs": [
        {
          "output_type": "stream",
          "name": "stdout",
          "text": [
            "Student __init__\n",
            "Person __init__\n",
            "파이썬 코딩 도장\n",
            "안녕하세요.\n"
          ]
        }
      ]
    },
    {
      "cell_type": "markdown",
      "source": [
        "자식클래스에서 `__init__()`이 없으면 부모클래스의  `__init__()`을 자동 호출한다.\n",
        "\n",
        "즉 `super()`없어도 됨."
      ],
      "metadata": {
        "id": "p4AzHB0uyA3w"
      }
    },
    {
      "cell_type": "code",
      "source": [
        "class Person:\n",
        "    def __init__(self):\n",
        "        print('Person __init__')\n",
        "        self.hello = '안녕하세요.'\n",
        "\n",
        "class Student(Person):\n",
        "    pass\n",
        "\n",
        "james = Student()\n",
        "print(james.hello)"
      ],
      "metadata": {
        "colab": {
          "base_uri": "https://localhost:8080/"
        },
        "id": "nabSdNTWw8tn",
        "outputId": "f94f77cc-c238-4e70-b936-1e159f93b0bf"
      },
      "execution_count": 3,
      "outputs": [
        {
          "output_type": "stream",
          "name": "stdout",
          "text": [
            "Person __init__\n",
            "안녕하세요.\n"
          ]
        }
      ]
    },
    {
      "cell_type": "markdown",
      "source": [
        "### 좀 더 명확하게 super 사용하기\n",
        "\n",
        "super는 다음과 같이 파생 클래스와 self를 넣어서 현재 클래스가 어떤 클래스인지 명확하게 표시하는 방법도 있습니다.\n",
        "\n",
        "물론 `super()`와 기능은 같습니다."
      ],
      "metadata": {
        "id": "iTdiJTm0yM4v"
      }
    },
    {
      "cell_type": "code",
      "source": [
        "class Student(Person):\n",
        "    def __init__(self):\n",
        "        print('Student __init__')\n",
        "        super(Student, self).__init__()     # super(파생클래스, self)로 기반 클래스의 메서드 호출\n",
        "        self.school = '파이썬 코딩 도장'\n",
        "\n",
        "james = Student()"
      ],
      "metadata": {
        "colab": {
          "base_uri": "https://localhost:8080/"
        },
        "id": "aq8vUgNexBl9",
        "outputId": "811c16bb-1967-4b9e-8f08-43322da58652"
      },
      "execution_count": 5,
      "outputs": [
        {
          "output_type": "stream",
          "name": "stdout",
          "text": [
            "Student __init__\n",
            "Person __init__\n"
          ]
        }
      ]
    }
  ]
}